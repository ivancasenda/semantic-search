{
 "cells": [
  {
   "cell_type": "markdown",
   "metadata": {},
   "source": [
    "# Terraform Output\n"
   ]
  },
  {
   "cell_type": "code",
   "execution_count": 1,
   "metadata": {},
   "outputs": [],
   "source": [
    "GOOGLE_CLOUD_PROJECT = \"stackoverflow-semantic-search\"\n",
    "GOOGLE_CLOUD_REGION = \"asia-southeast1\"\n",
    "\n",
    "# Output from Terraform\n",
    "GCS_BUCKET = \"gs://stackoverflow-semantic-search-storage\"\n",
    "ARTIFACT_REGISTRY_REPO = (\n",
    "    f\"asia-southeast1-docker.pkg.dev/stackoverflow-semantic-search/stackoverflow-semantic-search-docker\"\n",
    ")\n",
    "VPC_CONNECTOR = \"vpc-conn\"\n",
    "SERVICE_ACCOUNT = \"svc-acc@stackoverflow-semantic-search.iam.gserviceaccount.com\"\n",
    "VPC_NETWORK_NAME = \"projects/stackoverflow-semantic-search/global/networks/stackoverflow-semantic-search-vpc-network\"\n",
    "\n",
    "VERTEX_AI_MODEL_ENDPOINT_RESOURCE = (\n",
    "    \"projects/500376812545/locations/asia-southeast1/endpoints/5296892868764368896\"\n",
    ")\n",
    "VERTEX_AI_INDEX_ENDPOINT_RESOURCE = \"projects/500376812545/locations/asia-southeast1/indexEndpoints/2734599767488200704\"\n",
    "DEPLOYED_INDEX_ID = \"semantic_search_index\""
   ]
  },
  {
   "cell_type": "markdown",
   "metadata": {},
   "source": [
    "# Create Redis Instance\n"
   ]
  },
  {
   "cell_type": "code",
   "execution_count": 3,
   "metadata": {},
   "outputs": [],
   "source": [
    "REDIS_INSTANCE = f\"{GOOGLE_CLOUD_PROJECT}-redis\""
   ]
  },
  {
   "cell_type": "code",
   "execution_count": 11,
   "metadata": {},
   "outputs": [
    {
     "name": "stdout",
     "output_type": "stream",
     "text": [
      "gcloud redis instances create --project stackoverflow-semantic-search stackoverflow-semantic-search-redis --tier basic --size 2 --region asia-southeast1 --redis-version redis_7_0 --network projects/stackoverflow-semantic-search/global/networks/stackoverflow-semantic-search-vpc-network --connect-mode PRIVATE_SERVICE_ACCESS\n"
     ]
    }
   ],
   "source": [
    "print(f'gcloud redis instances create --project {GOOGLE_CLOUD_PROJECT}',\n",
    "      f'{REDIS_INSTANCE}',\n",
    "      f'--tier basic',\n",
    "      f'--size 2',\n",
    "      f'--region {GOOGLE_CLOUD_REGION}',\n",
    "      f'--redis-version redis_7_0',\n",
    "      f'--network {VPC_NETWORK_NAME}',\n",
    "      f'--connect-mode PRIVATE_SERVICE_ACCESS')"
   ]
  },
  {
   "cell_type": "markdown",
   "metadata": {},
   "source": [
    "# Populate Redis Instance (Run within VPC Network in Notebook)\n"
   ]
  },
  {
   "cell_type": "code",
   "execution_count": 25,
   "metadata": {},
   "outputs": [
    {
     "name": "stdout",
     "output_type": "stream",
     "text": [
      "sudo apt-get install redis-tools -y\n"
     ]
    }
   ],
   "source": [
    "print('sudo apt-get install redis-tools -y')"
   ]
  },
  {
   "cell_type": "code",
   "execution_count": 5,
   "metadata": {},
   "outputs": [],
   "source": [
    "REDIS_HOST = \"10.6.6.3\"\n",
    "REDIS_PORT = \"6379\""
   ]
  },
  {
   "cell_type": "code",
   "execution_count": 6,
   "metadata": {},
   "outputs": [
    {
     "name": "stdout",
     "output_type": "stream",
     "text": [
      "python bq_to_redis.py | redis-cli -h 10.6.6.3 -p 6379 --pipe\n"
     ]
    }
   ],
   "source": [
    "print(f'python bq_to_redis.py | redis-cli -h {REDIS_HOST} -p {REDIS_PORT} --pipe')"
   ]
  },
  {
   "cell_type": "markdown",
   "metadata": {},
   "source": [
    "# Build Cloud Run Image\n"
   ]
  },
  {
   "cell_type": "code",
   "execution_count": 7,
   "metadata": {},
   "outputs": [],
   "source": [
    "SERVICE_NAME = \"semantic-search-be\""
   ]
  },
  {
   "cell_type": "code",
   "execution_count": 8,
   "metadata": {},
   "outputs": [
    {
     "name": "stdout",
     "output_type": "stream",
     "text": [
      "gcloud builds submit --gcs-source-staging-dir gs://stackoverflow-semantic-search-storage/cloudbuild/semantic-search-be/source --gcs-log-dir gs://stackoverflow-semantic-search-storage/cloudbuild/semantic-search-be/logs --tag asia-southeast1-docker.pkg.dev/stackoverflow-semantic-search/stackoverflow-semantic-search-docker/semantic-search-be\n"
     ]
    }
   ],
   "source": [
    "print(f'gcloud builds submit --gcs-source-staging-dir',\n",
    "      f'{GCS_BUCKET}/cloudbuild/semantic-search-be/source',\n",
    "      f'--gcs-log-dir {GCS_BUCKET}/cloudbuild/semantic-search-be/logs',\n",
    "      f'--tag {ARTIFACT_REGISTRY_REPO}/{SERVICE_NAME}')"
   ]
  },
  {
   "cell_type": "markdown",
   "metadata": {},
   "source": [
    "# Deploy Cloud Run Service\n"
   ]
  },
  {
   "cell_type": "code",
   "execution_count": 9,
   "metadata": {},
   "outputs": [
    {
     "name": "stdout",
     "output_type": "stream",
     "text": [
      "gcloud run deploy semantic-search-be --image asia-southeast1-docker.pkg.dev/stackoverflow-semantic-search/stackoverflow-semantic-search-docker/semantic-search-be --service-account svc-acc@stackoverflow-semantic-search.iam.gserviceaccount.com --min-instances 1 --max-instances 4 --vpc-connector vpc-conn --allow-unauthenticated --platform managed --region asia-southeast1 --project stackoverflow-semantic-search --update-env-vars REDIS_HOST=10.6.6.3,REDIS_PORT=6379,DEPLOYED_INDEX_ID=semantic_search_index,VERTEX_AI_INDEX_ENDPOINT_RESOURCE=projects/500376812545/locations/asia-southeast1/indexEndpoints/2734599767488200704,VERTEX_AI_MODEL_ENDPOINT_RESOURCE=projects/500376812545/locations/asia-southeast1/endpoints/5296892868764368896\n"
     ]
    }
   ],
   "source": [
    "print(f'gcloud run deploy {SERVICE_NAME}',\n",
    "      f'--image {ARTIFACT_REGISTRY_REPO}/{SERVICE_NAME}',\n",
    "      f'--service-account {SERVICE_ACCOUNT}',\n",
    "      f'--min-instances 1',\n",
    "      f'--max-instances 4',\n",
    "      f'--vpc-connector {VPC_CONNECTOR}',\n",
    "      f'--allow-unauthenticated',\n",
    "      f'--platform managed',\n",
    "      f'--region {GOOGLE_CLOUD_REGION}',\n",
    "      f'--project {GOOGLE_CLOUD_PROJECT}',\n",
    "      f'--update-env-vars REDIS_HOST={REDIS_HOST},REDIS_PORT={REDIS_PORT},DEPLOYED_INDEX_ID={DEPLOYED_INDEX_ID},VERTEX_AI_INDEX_ENDPOINT_RESOURCE={VERTEX_AI_INDEX_ENDPOINT_RESOURCE},VERTEX_AI_MODEL_ENDPOINT_RESOURCE={VERTEX_AI_MODEL_ENDPOINT_RESOURCE}')"
   ]
  },
  {
   "cell_type": "markdown",
   "metadata": {},
   "source": [
    "# Delete GCP Resources\n"
   ]
  },
  {
   "cell_type": "code",
   "execution_count": 35,
   "metadata": {},
   "outputs": [
    {
     "name": "stdout",
     "output_type": "stream",
     "text": [
      "echo y | gcloud redis instances delete stackoverflow-semantic-search-redis --region=asia-southeast1\n"
     ]
    }
   ],
   "source": [
    "print(f'echo y | gcloud redis instances delete {REDIS_INSTANCE} --region={GOOGLE_CLOUD_REGION}')"
   ]
  },
  {
   "cell_type": "code",
   "execution_count": 36,
   "metadata": {},
   "outputs": [
    {
     "name": "stdout",
     "output_type": "stream",
     "text": [
      "echo y | gcloud run services delete semantic-search-be --region=asia-southeast1\n"
     ]
    }
   ],
   "source": [
    "print(f'echo y | gcloud run services delete {SERVICE_NAME} --region={GOOGLE_CLOUD_REGION}')"
   ]
  }
 ],
 "metadata": {
  "kernelspec": {
   "display_name": "post-similarity",
   "language": "python",
   "name": "python3"
  },
  "language_info": {
   "codemirror_mode": {
    "name": "ipython",
    "version": 3
   },
   "file_extension": ".py",
   "mimetype": "text/x-python",
   "name": "python",
   "nbconvert_exporter": "python",
   "pygments_lexer": "ipython3",
   "version": "3.11.7"
  },
  "orig_nbformat": 4
 },
 "nbformat": 4,
 "nbformat_minor": 2
}
